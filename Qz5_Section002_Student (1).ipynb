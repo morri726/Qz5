{
 "cells": [
  {
   "cell_type": "markdown",
   "metadata": {},
   "source": [
    "## <p style=\"text-align: right;\"> &#9989; Eric Morris</p>"
   ]
  },
  {
   "cell_type": "markdown",
   "metadata": {},
   "source": [
    "# CMSE 202: Quiz 5 (Section 002 - Spring 2021)"
   ]
  },
  {
   "cell_type": "markdown",
   "metadata": {},
   "source": [
    "1. You are encouraged to look through the entire quiz before you get started so that you can appropriately budget your time and understand the broad goals of the exam.\n",
    "\n",
    "2. The quiz is set up so that even if you get stuck on one question there are opportunities to get points on the other questions, so consider jumping ahead if you feel like you aren't making progress and then come back later if you have time.\n",
    "\n",
    "3. **Do as much as you can!** Even if your code cannot completely function, you will get partial credits according to the completeness. Provide proper documentation to the code to let the reader understand your intent, especially when your code is not functioning.\n",
    "\n",
    "3. **Important note about using online resources**: This exam is \"open internet\". That means that you can look up documentation, google how to accomplish certain Python tasks, etc. Being able to effectively use the internet for computational modeling and data science is a very important skill, so we want to make sure you have the opportunity to exercise that skill. **However, the use of any person-to-person communication software is absolutely not acceptable.**\n",
    "\n",
    "4. **Do your own work.** This quiz is designed to give *you* the opportunity to show the instructor what you can do and you should hold yourself accountable for maintaining a high level of academic integrity. Any violation of academic integrity could result in you receiving a zero on the quiz.\n",
    "\n",
    "5. The goal of this quiz is to give you the opportunity to test out some of the skills that you've developed thus far this semester. In particular, you'll reflect on what you know about writing code using Python and showcase some of your new programming skills."
   ]
  },
  {
   "cell_type": "markdown",
   "metadata": {},
   "source": [
    "---\n",
    "# Academic integrity statement\n",
    "\n",
    "\n",
    "As a member of the MSU Community, I hold myself to the Spartan Code of Honor academic pledge, which states:\n",
    "\n",
    "> As a Spartan, I will strive to uphold values of the highest ethical standard.  I will practice honesty in my work, foster honesty in my peers, and take pride in knowing that honor is worth more than grades.  I will carry these values beyond my time as a student at Michigan State University, continuing the endeavor to build personal integrity in all that I do.\n",
    "\n",
    "By typing my name in the cell below, I agree to hold myself to a high degree of academic integrity and ensure that all of the work included in this notebook is my own."
   ]
  },
  {
   "cell_type": "markdown",
   "metadata": {},
   "source": [
    "<font size=6 color=\"#009600\">&#9998;</font> *Put your name here.*"
   ]
  },
  {
   "cell_type": "markdown",
   "metadata": {},
   "source": [
    "---\n",
    "### Load modules\n",
    "Take a look of what packages will be used in this quiz."
   ]
  },
  {
   "cell_type": "code",
   "execution_count": 1,
   "metadata": {},
   "outputs": [],
   "source": [
    "import pandas as pd\n",
    "\n",
    "import matplotlib.pyplot as plt\n",
    "\n",
    "from sklearn import svm\n",
    "from sklearn.svm import SVC\n",
    "\n",
    "import numpy as np\n",
    "\n",
    "import networkx as nx"
   ]
  },
  {
   "cell_type": "markdown",
   "metadata": {},
   "source": [
    "---\n",
    "### Task 1 (1pt). Download data using `curl` command\n",
    "**Use `curl` command to download the iris data from** \n",
    "\n",
    "`https://raw.githubusercontent.com/msu-cmse-courses/cmse202-S21-student/master/data/iris.data` \n",
    "\n",
    "\n",
    "\n",
    "<font color='red'>***If you cannot use curl command, using other methods download the data so that you can continue the rest of quiz. However, you will lose 1 pt.***</font>"
   ]
  },
  {
   "cell_type": "code",
   "execution_count": null,
   "metadata": {},
   "outputs": [],
   "source": [
    "### Put your code here.\n",
    "!curl https://raw.githubusercontent.com/msu-cmse-courses/cmse202-S21-student/master/data/iris.data -O\n"
   ]
  },
  {
   "cell_type": "markdown",
   "metadata": {},
   "source": [
    "---\n",
    "### Task 2 (2 pt). Use pandas to examine the data\n",
    "**Use pandas to read the data, and set the five columns to the names:**\n",
    "\n",
    "`sepal_l`, `sepal_w`, `petal_l`, `petal_w`, `species`\n",
    "\n",
    "***Hint: Day06***\n",
    "\n",
    "<font color='red'>***Even if you cannot successfully read in data, provide your code in Tasks 3, 4, and 5 to get your points***</font>"
   ]
  },
  {
   "cell_type": "code",
   "execution_count": 6,
   "metadata": {},
   "outputs": [],
   "source": [
    "### Your code here\n",
    "\n",
    "df = pd.read_csv(\"iris.data\",sep = ' ', names=['sepal_l', 'sepal_w', 'petal_l', 'petal_w', 'species']  )  ## <== fill the blank \n",
    "\n"
   ]
  },
  {
   "cell_type": "markdown",
   "metadata": {},
   "source": [
    "**Use head(  ) function to examine the `first 25` data points.** "
   ]
  },
  {
   "cell_type": "code",
   "execution_count": 7,
   "metadata": {},
   "outputs": [
    {
     "data": {
      "text/html": [
       "<div>\n",
       "<style scoped>\n",
       "    .dataframe tbody tr th:only-of-type {\n",
       "        vertical-align: middle;\n",
       "    }\n",
       "\n",
       "    .dataframe tbody tr th {\n",
       "        vertical-align: top;\n",
       "    }\n",
       "\n",
       "    .dataframe thead th {\n",
       "        text-align: right;\n",
       "    }\n",
       "</style>\n",
       "<table border=\"1\" class=\"dataframe\">\n",
       "  <thead>\n",
       "    <tr style=\"text-align: right;\">\n",
       "      <th></th>\n",
       "      <th>sepal_l</th>\n",
       "      <th>sepal_w</th>\n",
       "      <th>petal_l</th>\n",
       "      <th>petal_w</th>\n",
       "      <th>species</th>\n",
       "    </tr>\n",
       "  </thead>\n",
       "  <tbody>\n",
       "    <tr>\n",
       "      <th>0</th>\n",
       "      <td>5.1</td>\n",
       "      <td>3.5</td>\n",
       "      <td>1.4</td>\n",
       "      <td>0.2</td>\n",
       "      <td>Iris-setosa</td>\n",
       "    </tr>\n",
       "    <tr>\n",
       "      <th>1</th>\n",
       "      <td>4.9</td>\n",
       "      <td>3.0</td>\n",
       "      <td>1.4</td>\n",
       "      <td>0.2</td>\n",
       "      <td>Iris-setosa</td>\n",
       "    </tr>\n",
       "    <tr>\n",
       "      <th>2</th>\n",
       "      <td>4.7</td>\n",
       "      <td>3.2</td>\n",
       "      <td>1.3</td>\n",
       "      <td>0.2</td>\n",
       "      <td>Iris-setosa</td>\n",
       "    </tr>\n",
       "    <tr>\n",
       "      <th>3</th>\n",
       "      <td>4.6</td>\n",
       "      <td>3.1</td>\n",
       "      <td>1.5</td>\n",
       "      <td>0.2</td>\n",
       "      <td>Iris-setosa</td>\n",
       "    </tr>\n",
       "    <tr>\n",
       "      <th>4</th>\n",
       "      <td>5.0</td>\n",
       "      <td>3.6</td>\n",
       "      <td>1.4</td>\n",
       "      <td>0.2</td>\n",
       "      <td>Iris-setosa</td>\n",
       "    </tr>\n",
       "    <tr>\n",
       "      <th>5</th>\n",
       "      <td>5.4</td>\n",
       "      <td>3.9</td>\n",
       "      <td>1.7</td>\n",
       "      <td>0.4</td>\n",
       "      <td>Iris-setosa</td>\n",
       "    </tr>\n",
       "    <tr>\n",
       "      <th>6</th>\n",
       "      <td>4.6</td>\n",
       "      <td>3.4</td>\n",
       "      <td>1.4</td>\n",
       "      <td>0.3</td>\n",
       "      <td>Iris-setosa</td>\n",
       "    </tr>\n",
       "    <tr>\n",
       "      <th>7</th>\n",
       "      <td>5.0</td>\n",
       "      <td>3.4</td>\n",
       "      <td>1.5</td>\n",
       "      <td>0.2</td>\n",
       "      <td>Iris-setosa</td>\n",
       "    </tr>\n",
       "    <tr>\n",
       "      <th>8</th>\n",
       "      <td>4.4</td>\n",
       "      <td>2.9</td>\n",
       "      <td>1.4</td>\n",
       "      <td>0.2</td>\n",
       "      <td>Iris-setosa</td>\n",
       "    </tr>\n",
       "    <tr>\n",
       "      <th>9</th>\n",
       "      <td>4.9</td>\n",
       "      <td>3.1</td>\n",
       "      <td>1.5</td>\n",
       "      <td>0.1</td>\n",
       "      <td>Iris-setosa</td>\n",
       "    </tr>\n",
       "    <tr>\n",
       "      <th>10</th>\n",
       "      <td>5.4</td>\n",
       "      <td>3.7</td>\n",
       "      <td>1.5</td>\n",
       "      <td>0.2</td>\n",
       "      <td>Iris-setosa</td>\n",
       "    </tr>\n",
       "    <tr>\n",
       "      <th>11</th>\n",
       "      <td>4.8</td>\n",
       "      <td>3.4</td>\n",
       "      <td>1.6</td>\n",
       "      <td>0.2</td>\n",
       "      <td>Iris-setosa</td>\n",
       "    </tr>\n",
       "    <tr>\n",
       "      <th>12</th>\n",
       "      <td>4.8</td>\n",
       "      <td>3.0</td>\n",
       "      <td>1.4</td>\n",
       "      <td>0.1</td>\n",
       "      <td>Iris-setosa</td>\n",
       "    </tr>\n",
       "    <tr>\n",
       "      <th>13</th>\n",
       "      <td>4.3</td>\n",
       "      <td>3.0</td>\n",
       "      <td>1.1</td>\n",
       "      <td>0.1</td>\n",
       "      <td>Iris-setosa</td>\n",
       "    </tr>\n",
       "    <tr>\n",
       "      <th>14</th>\n",
       "      <td>5.8</td>\n",
       "      <td>4.0</td>\n",
       "      <td>1.2</td>\n",
       "      <td>0.2</td>\n",
       "      <td>Iris-setosa</td>\n",
       "    </tr>\n",
       "    <tr>\n",
       "      <th>15</th>\n",
       "      <td>5.7</td>\n",
       "      <td>4.4</td>\n",
       "      <td>1.5</td>\n",
       "      <td>0.4</td>\n",
       "      <td>Iris-setosa</td>\n",
       "    </tr>\n",
       "    <tr>\n",
       "      <th>16</th>\n",
       "      <td>5.4</td>\n",
       "      <td>3.9</td>\n",
       "      <td>1.3</td>\n",
       "      <td>0.4</td>\n",
       "      <td>Iris-setosa</td>\n",
       "    </tr>\n",
       "    <tr>\n",
       "      <th>17</th>\n",
       "      <td>5.1</td>\n",
       "      <td>3.5</td>\n",
       "      <td>1.4</td>\n",
       "      <td>0.3</td>\n",
       "      <td>Iris-setosa</td>\n",
       "    </tr>\n",
       "    <tr>\n",
       "      <th>18</th>\n",
       "      <td>5.7</td>\n",
       "      <td>3.8</td>\n",
       "      <td>1.7</td>\n",
       "      <td>0.3</td>\n",
       "      <td>Iris-setosa</td>\n",
       "    </tr>\n",
       "    <tr>\n",
       "      <th>19</th>\n",
       "      <td>5.1</td>\n",
       "      <td>3.8</td>\n",
       "      <td>1.5</td>\n",
       "      <td>0.3</td>\n",
       "      <td>Iris-setosa</td>\n",
       "    </tr>\n",
       "    <tr>\n",
       "      <th>20</th>\n",
       "      <td>5.4</td>\n",
       "      <td>3.4</td>\n",
       "      <td>1.7</td>\n",
       "      <td>0.2</td>\n",
       "      <td>Iris-setosa</td>\n",
       "    </tr>\n",
       "    <tr>\n",
       "      <th>21</th>\n",
       "      <td>5.1</td>\n",
       "      <td>3.7</td>\n",
       "      <td>1.5</td>\n",
       "      <td>0.4</td>\n",
       "      <td>Iris-setosa</td>\n",
       "    </tr>\n",
       "    <tr>\n",
       "      <th>22</th>\n",
       "      <td>4.6</td>\n",
       "      <td>3.6</td>\n",
       "      <td>1.0</td>\n",
       "      <td>0.2</td>\n",
       "      <td>Iris-setosa</td>\n",
       "    </tr>\n",
       "    <tr>\n",
       "      <th>23</th>\n",
       "      <td>5.1</td>\n",
       "      <td>3.3</td>\n",
       "      <td>1.7</td>\n",
       "      <td>0.5</td>\n",
       "      <td>Iris-setosa</td>\n",
       "    </tr>\n",
       "    <tr>\n",
       "      <th>24</th>\n",
       "      <td>4.8</td>\n",
       "      <td>3.4</td>\n",
       "      <td>1.9</td>\n",
       "      <td>0.2</td>\n",
       "      <td>Iris-setosa</td>\n",
       "    </tr>\n",
       "  </tbody>\n",
       "</table>\n",
       "</div>"
      ],
      "text/plain": [
       "    sepal_l  sepal_w  petal_l  petal_w      species\n",
       "0       5.1      3.5      1.4      0.2  Iris-setosa\n",
       "1       4.9      3.0      1.4      0.2  Iris-setosa\n",
       "2       4.7      3.2      1.3      0.2  Iris-setosa\n",
       "3       4.6      3.1      1.5      0.2  Iris-setosa\n",
       "4       5.0      3.6      1.4      0.2  Iris-setosa\n",
       "5       5.4      3.9      1.7      0.4  Iris-setosa\n",
       "6       4.6      3.4      1.4      0.3  Iris-setosa\n",
       "7       5.0      3.4      1.5      0.2  Iris-setosa\n",
       "8       4.4      2.9      1.4      0.2  Iris-setosa\n",
       "9       4.9      3.1      1.5      0.1  Iris-setosa\n",
       "10      5.4      3.7      1.5      0.2  Iris-setosa\n",
       "11      4.8      3.4      1.6      0.2  Iris-setosa\n",
       "12      4.8      3.0      1.4      0.1  Iris-setosa\n",
       "13      4.3      3.0      1.1      0.1  Iris-setosa\n",
       "14      5.8      4.0      1.2      0.2  Iris-setosa\n",
       "15      5.7      4.4      1.5      0.4  Iris-setosa\n",
       "16      5.4      3.9      1.3      0.4  Iris-setosa\n",
       "17      5.1      3.5      1.4      0.3  Iris-setosa\n",
       "18      5.7      3.8      1.7      0.3  Iris-setosa\n",
       "19      5.1      3.8      1.5      0.3  Iris-setosa\n",
       "20      5.4      3.4      1.7      0.2  Iris-setosa\n",
       "21      5.1      3.7      1.5      0.4  Iris-setosa\n",
       "22      4.6      3.6      1.0      0.2  Iris-setosa\n",
       "23      5.1      3.3      1.7      0.5  Iris-setosa\n",
       "24      4.8      3.4      1.9      0.2  Iris-setosa"
      ]
     },
     "execution_count": 7,
     "metadata": {},
     "output_type": "execute_result"
    }
   ],
   "source": [
    "### Your code here\n",
    "\n",
    "df.head(25)"
   ]
  },
  {
   "cell_type": "markdown",
   "metadata": {},
   "source": [
    "**Use describe( ) function to show the mean and other information of the data.**"
   ]
  },
  {
   "cell_type": "code",
   "execution_count": 12,
   "metadata": {},
   "outputs": [
    {
     "data": {
      "text/html": [
       "<div>\n",
       "<style scoped>\n",
       "    .dataframe tbody tr th:only-of-type {\n",
       "        vertical-align: middle;\n",
       "    }\n",
       "\n",
       "    .dataframe tbody tr th {\n",
       "        vertical-align: top;\n",
       "    }\n",
       "\n",
       "    .dataframe thead th {\n",
       "        text-align: right;\n",
       "    }\n",
       "</style>\n",
       "<table border=\"1\" class=\"dataframe\">\n",
       "  <thead>\n",
       "    <tr style=\"text-align: right;\">\n",
       "      <th></th>\n",
       "      <th>sepal_l</th>\n",
       "      <th>sepal_w</th>\n",
       "      <th>petal_l</th>\n",
       "      <th>petal_w</th>\n",
       "    </tr>\n",
       "  </thead>\n",
       "  <tbody>\n",
       "    <tr>\n",
       "      <th>count</th>\n",
       "      <td>150.000000</td>\n",
       "      <td>150.000000</td>\n",
       "      <td>150.000000</td>\n",
       "      <td>150.000000</td>\n",
       "    </tr>\n",
       "    <tr>\n",
       "      <th>mean</th>\n",
       "      <td>5.843333</td>\n",
       "      <td>3.054000</td>\n",
       "      <td>3.758667</td>\n",
       "      <td>1.198667</td>\n",
       "    </tr>\n",
       "    <tr>\n",
       "      <th>std</th>\n",
       "      <td>0.828066</td>\n",
       "      <td>0.433594</td>\n",
       "      <td>1.764420</td>\n",
       "      <td>0.763161</td>\n",
       "    </tr>\n",
       "    <tr>\n",
       "      <th>min</th>\n",
       "      <td>4.300000</td>\n",
       "      <td>2.000000</td>\n",
       "      <td>1.000000</td>\n",
       "      <td>0.100000</td>\n",
       "    </tr>\n",
       "    <tr>\n",
       "      <th>25%</th>\n",
       "      <td>5.100000</td>\n",
       "      <td>2.800000</td>\n",
       "      <td>1.600000</td>\n",
       "      <td>0.300000</td>\n",
       "    </tr>\n",
       "    <tr>\n",
       "      <th>50%</th>\n",
       "      <td>5.800000</td>\n",
       "      <td>3.000000</td>\n",
       "      <td>4.350000</td>\n",
       "      <td>1.300000</td>\n",
       "    </tr>\n",
       "    <tr>\n",
       "      <th>75%</th>\n",
       "      <td>6.400000</td>\n",
       "      <td>3.300000</td>\n",
       "      <td>5.100000</td>\n",
       "      <td>1.800000</td>\n",
       "    </tr>\n",
       "    <tr>\n",
       "      <th>max</th>\n",
       "      <td>7.900000</td>\n",
       "      <td>4.400000</td>\n",
       "      <td>6.900000</td>\n",
       "      <td>2.500000</td>\n",
       "    </tr>\n",
       "  </tbody>\n",
       "</table>\n",
       "</div>"
      ],
      "text/plain": [
       "          sepal_l     sepal_w     petal_l     petal_w\n",
       "count  150.000000  150.000000  150.000000  150.000000\n",
       "mean     5.843333    3.054000    3.758667    1.198667\n",
       "std      0.828066    0.433594    1.764420    0.763161\n",
       "min      4.300000    2.000000    1.000000    0.100000\n",
       "25%      5.100000    2.800000    1.600000    0.300000\n",
       "50%      5.800000    3.000000    4.350000    1.300000\n",
       "75%      6.400000    3.300000    5.100000    1.800000\n",
       "max      7.900000    4.400000    6.900000    2.500000"
      ]
     },
     "execution_count": 12,
     "metadata": {},
     "output_type": "execute_result"
    }
   ],
   "source": [
    "### Your code here\n",
    "\n",
    "df.describe()"
   ]
  },
  {
   "cell_type": "markdown",
   "metadata": {},
   "source": [
    "**What are the mean and median of pedal_l?**"
   ]
  },
  {
   "cell_type": "markdown",
   "metadata": {},
   "source": [
    "<font size=+3>&#9998;</font> Mean:3.758667, Median: 4.35"
   ]
  },
  {
   "cell_type": "markdown",
   "metadata": {},
   "source": [
    "---\n",
    "### Task 3 (3 pt). Convert data frame to numpy array\n",
    "\n",
    "**You need to convert the df to array X and y for plotting and classification.** \n",
    "\n",
    "1. **Create an `X` array that has the first 4 columns in the Iris data.**\n",
    "2. **Create a `y` array that has numeric values representing the species.**\n",
    "\n",
    "- If species = Iris-setosa, the corresponding value is 0 in y. \n",
    "- If species = Iris-versicolor, the corresponding value is 1 in y.\n",
    "- If species = Iris-virginica, the corresponding value is 2 in y."
   ]
  },
  {
   "cell_type": "code",
   "execution_count": 32,
   "metadata": {},
   "outputs": [],
   "source": [
    "### Here we create an X and y arrays first, and fill the entries \n",
    "### Your code here\n",
    "\n",
    "X = np.zeros(( len(df) , 4 ))  ## <== fill the blanks\n",
    "y = np.zeros( len(df))      ## <== fill the blanks\n",
    "\n",
    "### the rest of your code\n",
    "X[:,0]=df['sepal_l']\n",
    "X[:,1]=df['sepal_w']\n",
    "X[:,2]=df['petal_l']\n",
    "X[:,3]=df['petal_w']\n",
    "\n",
    "\n",
    "\n",
    "for i in range(len(df)):\n",
    "    if df['species'][i]==\"Iris-setosa\":\n",
    "        y[i]=0\n",
    "    if df['species'][i]==\"Iris-versicolor\":\n",
    "        y[i]=1\n",
    "    if df['species'][i]==\"Iris-virginica\":\n",
    "        y[i]=2\n"
   ]
  },
  {
   "cell_type": "markdown",
   "metadata": {},
   "source": [
    "---\n",
    "### Task 4 (1 pt). Use scatter function to plot the data points. petal_l versus sepal_l.\n",
    "\n",
    "***petal_l (the 3rd column) as the vertical coordinate, and sepal_l (the 1st column) as the horizontal coordinate.*** You should get a plot like the one below.\n",
    "<img src=\"https://i.ibb.co/PrSFqPf/Sepal-vs-petal.png\" alt=\"Popula-1\" border=\"0\" width=300px>"
   ]
  },
  {
   "cell_type": "code",
   "execution_count": 27,
   "metadata": {},
   "outputs": [
    {
     "data": {
      "text/plain": [
       "<matplotlib.colorbar.Colorbar at 0x7f0538a3d080>"
      ]
     },
     "execution_count": 27,
     "metadata": {},
     "output_type": "execute_result"
    },
    {
     "data": {
      "image/png": "[encoded data removed]",
      "text/plain": [
       "<Figure size 432x288 with 2 Axes>"
      ]
     },
     "metadata": {
      "needs_background": "light"
     },
     "output_type": "display_data"
    }
   ],
   "source": [
    "## You code here:\n",
    "plt.scatter(df['sepal_l'], df['petal_l'], c= y)\n",
    "plt.xlabel(\"sepal_l\")\n",
    "plt.ylabel(\"petal_l\")\n",
    "plt.colorbar()\n"
   ]
  },
  {
   "cell_type": "markdown",
   "metadata": {},
   "source": [
    "---\n",
    "### Task 5 (2 pt): SVM classification.\n",
    "\n",
    "1. **Create a linear svm classifier.** ***Hint: `svm.SVC` and `linear` kernel***\n",
    "1. **Use the fit( ) function to fit the classifier with the X and y arrays created earlier.**\n",
    "1. **Use the predict( ) function to classfy which species of an iris having** \n",
    "`sepal_l, sepal_w, petal_l and petal_w = 6.5, 4.0, 2.5, and 10.0`, **respectively.** ***Hint: This data point contains four values [6.5, 4.0, 2.5, 10.0]***"
   ]
  },
  {
   "cell_type": "code",
   "execution_count": 38,
   "metadata": {},
   "outputs": [
    {
     "data": {
      "text/plain": [
       "array([2.])"
      ]
     },
     "execution_count": 38,
     "metadata": {},
     "output_type": "execute_result"
    }
   ],
   "source": [
    "### You code here.\n",
    "\n",
    "\n",
    "my_model=SVC( kernel='linear')\n",
    "my_model.fit(X, y)\n",
    "pred_label=my_model.predict(np.array([[6.5, 4.0, 2.5, 10.0]]))\n",
    "\n",
    "pred_label"
   ]
  },
  {
   "cell_type": "markdown",
   "metadata": {},
   "source": [
    "**Which species?**"
   ]
  },
  {
   "cell_type": "markdown",
   "metadata": {},
   "source": [
    "<font size=+3>&#9998;</font> Iris-versicolor"
   ]
  },
  {
   "cell_type": "markdown",
   "metadata": {},
   "source": [
    "---\n",
    "### Task 6 (2 pt) Object-oriented programming.\n",
    "\n",
    "You are asked to create a car class that contains two attributes: make and year: `make` is the what model the car is. `year` is how old the car is.\n",
    "\n",
    "1. **Complete the `init` block.** The class contains make and year attributes that will be keyed in later.\n",
    "2. **Complete the get_make method, which allows you to find the `make` of the car.**\n",
    "2. **Complete the get_year method, which allows you to find the `year` of the car.**\n",
    "\n",
    "\n",
    "**Fill the blanks and complete the code below.**"
   ]
  },
  {
   "cell_type": "code",
   "execution_count": 39,
   "metadata": {},
   "outputs": [],
   "source": [
    "class Car():\n",
    "    '''\n",
    "    class of cars. \n",
    "    '''\n",
    "    def __init__(self, make, year  ):   \n",
    "        '''\n",
    "        This class contains two attributes: make and year.\n",
    "        '''\n",
    "        self.make = make\n",
    "        self.year = year\n",
    "\n",
    "        \n",
    "        return\n",
    "    \n",
    "    \n",
    "    def get_make(self  ):\n",
    "        '''\n",
    "        This method returns the make of the car.\n",
    "        '''      \n",
    "        \n",
    "        return self.make\n",
    "    \n",
    "    \n",
    "    \n",
    "    def get_year(self  ):\n",
    "        '''\n",
    "        This method returns how old this car is.\n",
    "        '''        \n",
    "        \n",
    "        return self.year     \n",
    "    "
   ]
  },
  {
   "cell_type": "markdown",
   "metadata": {},
   "source": [
    "**Create 5 car classes: Toyo1, Suba1, Suba2, Merc1, Chev1.**"
   ]
  },
  {
   "cell_type": "code",
   "execution_count": 40,
   "metadata": {},
   "outputs": [],
   "source": [
    "Toyo1 = Car('RAV4',5)\n",
    "Suba1 = Car('Outback',6)\n",
    "Suba2 = Car('Outback',2)\n",
    "Merc1 = Car('SLK',10)\n",
    "Chev1 = Car('Corvette',6)"
   ]
  },
  {
   "cell_type": "markdown",
   "metadata": {},
   "source": [
    "### Task 7 (1 pt). \n",
    "\n",
    "**Use the `get_make` and `get_year` methods to print out the make and year of Merc1 in the cell below**"
   ]
  },
  {
   "cell_type": "code",
   "execution_count": 41,
   "metadata": {},
   "outputs": [
    {
     "name": "stdout",
     "output_type": "stream",
     "text": [
      "SLK 10\n"
     ]
    }
   ],
   "source": [
    "### Your code here\n",
    "\n",
    "print(Merc1.get_make(), Merc1.get_year())"
   ]
  },
  {
   "cell_type": "markdown",
   "metadata": {},
   "source": [
    "---\n",
    "### Task 8 (1 pt). Make an adjacency matrix based on the graph in the image below.\n",
    "\n",
    "<img src=\"https://i.ibb.co/NZk07qg/NetX.png\" alt=\"Popula-1\" border=\"0\" width=500px>\n",
    "\n",
    "**Note that you should make the adjcancy matrix in a np array.**"
   ]
  },
  {
   "cell_type": "code",
   "execution_count": 42,
   "metadata": {},
   "outputs": [],
   "source": [
    "### Your adjacency matrix\n",
    "\n",
    "adj = np.array([[0,0,1,0,1,1],\n",
    "               [0,0,1,1,0,1],\n",
    "               [1,1,0,0,1,0],\n",
    "               [0,1,0,0,0,0],\n",
    "               [1,0,1,0,0,0],\n",
    "               [1,1,0,0,0,0]])\n"
   ]
  },
  {
   "cell_type": "markdown",
   "metadata": {},
   "source": [
    "---\n",
    "### Task 9 (1 pt). Create a graph object using networkX and draw the graph.\n",
    "<font color='red'>***Even if you cannot create the adjacency matrix, provide your code in the cell below to get your points.***</font>"
   ]
  },
  {
   "cell_type": "code",
   "execution_count": 45,
   "metadata": {},
   "outputs": [
    {
     "data": {
      "image/png": "[encoded data removed]",
      "text/plain": [
       "<Figure size 432x288 with 1 Axes>"
      ]
     },
     "metadata": {},
     "output_type": "display_data"
    }
   ],
   "source": [
    "### Your code here\n",
    "G = nx.convert_matrix.from_numpy_array(adj)\n",
    "nx.draw(G, with_labels=True)\n"
   ]
  },
  {
   "cell_type": "markdown",
   "metadata": {},
   "source": [
    "---\n",
    "\n",
    "### Task 10 (1 pt). Use networkX function to find the shortest path from node 3 to 4.\n",
    "<font color='red'>***Even if you do not have the adjacency matrix and graph object, provide your code in the cell below to get your points.***</font>"
   ]
  },
  {
   "cell_type": "code",
   "execution_count": 49,
   "metadata": {},
   "outputs": [
    {
     "data": {
      "text/plain": [
       "[3, 1, 2, 4]"
      ]
     },
     "execution_count": 49,
     "metadata": {},
     "output_type": "execute_result"
    }
   ],
   "source": [
    "### Your code here\n",
    "\n",
    "nx.algorithms.shortest_paths.generic.shortest_path(G, source = 3, target=4)"
   ]
  },
  {
   "cell_type": "markdown",
   "metadata": {},
   "source": [
    "---\n",
    "### Task 11 (1 pt): Git practice. \n",
    "1. **Create a Qz5 folder on your GitHub and uplaod this notebook file to the folder.**\n",
    "1. **Provide the git command to clone your file in the cell below.**"
   ]
  },
  {
   "cell_type": "code",
   "execution_count": null,
   "metadata": {},
   "outputs": [],
   "source": [
    "### Your code here.\n",
    "\n"
   ]
  },
  {
   "cell_type": "markdown",
   "metadata": {},
   "source": [
    "---\n",
    "\n",
    "### Congratulations, you're done!\n",
    "\n",
    "Submit this quiz by uploading it to the course Desire2Learn web page.  Go to the \"Quizzes\" section, find the submission folder link for Quiz #5, and upload it there."
   ]
  }
 ],
 "metadata": {
  "kernelspec": {
   "display_name": "Python 3",
   "language": "python",
   "name": "python3"
  },
  "language_info": {
   "codemirror_mode": {
    "name": "ipython",
    "version": 3
   },
   "file_extension": ".py",
   "mimetype": "text/x-python",
   "name": "python",
   "nbconvert_exporter": "python",
   "pygments_lexer": "ipython3",
   "version": "3.7.3"
  }
 },
 "nbformat": 4,
 "nbformat_minor": 4
}
